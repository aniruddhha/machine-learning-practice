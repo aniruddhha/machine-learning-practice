{
  "nbformat": 4,
  "nbformat_minor": 0,
  "metadata": {
    "colab": {
      "name": "scikit-learn-practice.ipynb",
      "provenance": [],
      "collapsed_sections": [
        "GlAGTLZ7-vs0",
        "UFMbL1Bu-2JO",
        "NSYa4g9a_f9I",
        "NZgOYHJ7_o8F",
        "TyODc5TK_zAk",
        "9ecEk4Re__ln"
      ],
      "authorship_tag": "ABX9TyOTemNO+anD8Z10wK3yGQVh",
      "include_colab_link": true
    },
    "kernelspec": {
      "name": "python3",
      "display_name": "Python 3"
    }
  },
  "cells": [
    {
      "cell_type": "markdown",
      "metadata": {
        "id": "view-in-github",
        "colab_type": "text"
      },
      "source": [
        "<a href=\"https://colab.research.google.com/github/aniruddhha/machine-learning-practice/blob/master/scikit_learn_practice.ipynb\" target=\"_parent\"><img src=\"https://colab.research.google.com/assets/colab-badge.svg\" alt=\"Open In Colab\"/></a>"
      ]
    },
    {
      "cell_type": "markdown",
      "metadata": {
        "id": "GlAGTLZ7-vs0",
        "colab_type": "text"
      },
      "source": [
        "### **Loading Data**"
      ]
    },
    {
      "cell_type": "code",
      "metadata": {
        "id": "A8YdnDC6RtgP",
        "colab_type": "code",
        "colab": {}
      },
      "source": [
        "import pandas as pd\n",
        "\n",
        "df = pd.read_csv('https://raw.githubusercontent.com/aniruddhha/sample-csv-file/master/movie_review.csv')"
      ],
      "execution_count": 0,
      "outputs": []
    },
    {
      "cell_type": "code",
      "metadata": {
        "id": "6EOOL7t9elfJ",
        "colab_type": "code",
        "colab": {}
      },
      "source": [
        "print('Shape Before Sampling ',df.shape)\n",
        "df = df.sample(10000)\n",
        "print('Shape After Sampling ',df.shape)\n",
        "print('Positive Reviews',len(df[df['tag']=='pos']))\n",
        "print('Negatve Reviews',len(df[df['tag']=='neg']))\n",
        "\n",
        "pos_df = df[df['tag']=='pos']\n",
        "print(pos_df.iloc[0]['text'])\n"
      ],
      "execution_count": 0,
      "outputs": []
    },
    {
      "cell_type": "markdown",
      "metadata": {
        "id": "UFMbL1Bu-2JO",
        "colab_type": "text"
      },
      "source": [
        "### **Data Class**\n"
      ]
    },
    {
      "cell_type": "code",
      "metadata": {
        "id": "pIZHmshVgqrM",
        "colab_type": "code",
        "colab": {}
      },
      "source": [
        "class Review:\n",
        "  def __init__(self, rvTxt, rvTyp):\n",
        "    self.rvTxt = rvTxt\n",
        "    self.rvTyp = rvTyp"
      ],
      "execution_count": 0,
      "outputs": []
    },
    {
      "cell_type": "markdown",
      "metadata": {
        "id": "NSYa4g9a_f9I",
        "colab_type": "text"
      },
      "source": [
        "### **Preparing Data**"
      ]
    },
    {
      "cell_type": "code",
      "metadata": {
        "id": "JW8YquPnf-Yj",
        "colab_type": "code",
        "colab": {}
      },
      "source": [
        "reviews = []\n",
        "\n",
        "for index, row in df.iterrows():\n",
        "  reviews.append(Review(row['text'], row['tag']))"
      ],
      "execution_count": 0,
      "outputs": []
    },
    {
      "cell_type": "code",
      "metadata": {
        "id": "CXGqsZ3pozJi",
        "colab_type": "code",
        "colab": {}
      },
      "source": [
        "from sklearn.model_selection import train_test_split\n",
        "\n",
        "training, testing = train_test_split(reviews, test_size=0.3, random_state=42)\n",
        "\n",
        "print('Training length is ', len(training))\n",
        "print('Testing length is ', len(testing))\n",
        "\n",
        "train_x = [x.rvTxt for x in training]\n",
        "train_y = [x.rvTyp for x in training]\n",
        "\n",
        "test_x = [x.rvTxt for x in testing]\n",
        "test_y = [x.rvTyp for x in testing]"
      ],
      "execution_count": 0,
      "outputs": []
    },
    {
      "cell_type": "markdown",
      "metadata": {
        "id": "NZgOYHJ7_o8F",
        "colab_type": "text"
      },
      "source": [
        "### **Bag Of Words**"
      ]
    },
    {
      "cell_type": "code",
      "metadata": {
        "id": "MUzP5mx4qzQF",
        "colab_type": "code",
        "colab": {}
      },
      "source": [
        "from sklearn.feature_extraction.text import CountVectorizer\n",
        "vectorizer = CountVectorizer()\n",
        "\n",
        "training_x_vectors = vectorizer.fit_transform(train_x)\n",
        "testing_x_vectors = vectorizer.transform(test_x)"
      ],
      "execution_count": 0,
      "outputs": []
    },
    {
      "cell_type": "markdown",
      "metadata": {
        "id": "TyODc5TK_zAk",
        "colab_type": "text"
      },
      "source": [
        "### **Training - SVM**"
      ]
    },
    {
      "cell_type": "code",
      "metadata": {
        "id": "OW7BWezQtWXQ",
        "colab_type": "code",
        "colab": {}
      },
      "source": [
        "from sklearn import svm\n",
        "svm_classifier = svm.SVC(kernel='linear')\n",
        "svm_classifier.fit(training_x_vectors, train_y)"
      ],
      "execution_count": 0,
      "outputs": []
    },
    {
      "cell_type": "markdown",
      "metadata": {
        "id": "9ecEk4Re__ln",
        "colab_type": "text"
      },
      "source": [
        "### **Predection - SVM**"
      ]
    },
    {
      "cell_type": "code",
      "metadata": {
        "id": "blLCEVuZuqNn",
        "colab_type": "code",
        "outputId": "58bf9706-0461-4af0-a149-a7c9f76c248f",
        "colab": {
          "base_uri": "https://localhost:8080/",
          "height": 34
        }
      },
      "source": [
        "svm_classifier.predict(testing_x_vectors[50])"
      ],
      "execution_count": 0,
      "outputs": [
        {
          "output_type": "execute_result",
          "data": {
            "text/plain": [
              "array(['neg'], dtype='<U3')"
            ]
          },
          "metadata": {
            "tags": []
          },
          "execution_count": 30
        }
      ]
    },
    {
      "cell_type": "code",
      "metadata": {
        "id": "B6mhPjtAu4BR",
        "colab_type": "code",
        "colab": {}
      },
      "source": [
        "my_review = ['most singers and dancers remain on the stage , and those who do succeed in movies usually wind up in serious dramatic parts .']\n",
        "my_review_vectors = vectorizer.transform(my_review)\n",
        "svm_classifier.predict(my_review_vectors)"
      ],
      "execution_count": 0,
      "outputs": []
    }
  ]
}