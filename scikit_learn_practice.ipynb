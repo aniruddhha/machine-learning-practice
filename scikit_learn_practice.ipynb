{
  "nbformat": 4,
  "nbformat_minor": 0,
  "metadata": {
    "colab": {
      "name": "scikit-learn-practice.ipynb",
      "provenance": [],
      "collapsed_sections": [],
      "authorship_tag": "ABX9TyMxUUc8IGQn2P4LLXoj5A9r",
      "include_colab_link": true
    },
    "kernelspec": {
      "name": "python3",
      "display_name": "Python 3"
    }
  },
  "cells": [
    {
      "cell_type": "markdown",
      "metadata": {
        "id": "view-in-github",
        "colab_type": "text"
      },
      "source": [
        "<a href=\"https://colab.research.google.com/github/aniruddhha/machine-learning-practice/blob/master/scikit_learn_practice.ipynb\" target=\"_parent\"><img src=\"https://colab.research.google.com/assets/colab-badge.svg\" alt=\"Open In Colab\"/></a>"
      ]
    },
    {
      "cell_type": "code",
      "metadata": {
        "id": "A8YdnDC6RtgP",
        "colab_type": "code",
        "colab": {}
      },
      "source": [
        "import pandas as pd\n",
        "\n",
        "df = pd.read_csv('https://raw.githubusercontent.com/aniruddhha/sample-csv-file/master/movie_review.csv')\n",
        "df.tail()"
      ],
      "execution_count": 0,
      "outputs": []
    },
    {
      "cell_type": "code",
      "metadata": {
        "id": "6EOOL7t9elfJ",
        "colab_type": "code",
        "colab": {}
      },
      "source": [
        "print('Shape Before Sampling ',df.shape)\n",
        "df = df.sample(10000)\n",
        "print('Shape After Sampling ',df.shape)\n"
      ],
      "execution_count": 0,
      "outputs": []
    }
  ]
}